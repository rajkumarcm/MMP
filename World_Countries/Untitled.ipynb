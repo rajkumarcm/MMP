{
 "cells": [
  {
   "cell_type": "code",
   "execution_count": 1,
   "id": "1d653274-6dc2-4c4d-aa2e-2bfd3090fcaa",
   "metadata": {},
   "outputs": [],
   "source": [
    "import re\n",
    "import random\n",
    "import numpy as np\n",
    "import shapefile as spf\n",
    "from shapely.geometry import shape, Point"
   ]
  },
  {
   "cell_type": "code",
   "execution_count": 4,
   "id": "c3fd9786-42bb-444b-bb55-b35d02d0250e",
   "metadata": {
    "tags": []
   },
   "outputs": [],
   "source": [
    "def get_rcoordinates(path, country):  \n",
    "    \n",
    "    def is_match(text):\n",
    "        match = re.match(f'.*{country}.*', text)\n",
    "        return match\n",
    "    \n",
    "    # Read the shape file that contains list of countries with their unique ID\n",
    "    country_list = spf.Reader(path)\n",
    "    \n",
    "    # get the record that belong to the country we have queried the function\n",
    "    country = [c for c in shapes.records() if is_match(c.__str__()) is not None][0] # [0] to extract the only item from the list\n",
    "    \n",
    "    # Extract the country ID from the variable country\n",
    "    country_id = int(re.findall(r'\\d+', country.__str__())[0])\n",
    "    \n",
    "    # Get the coordinates from the polygon details dictionary\n",
    "    coordinates_list = country_list.shapeRecords()[country_id].shape.__geo_interface__['coordinates']\n",
    "    \n",
    "    coordinates = None\n",
    "    tol = 100\n",
    "    count = 0\n",
    "    while count < tol:\n",
    "        if len(coordinates_list) != 2:\n",
    "            coordinates_list = coordinates_list[0]\n",
    "        else:\n",
    "            coordinates = coordinates_list   \n",
    "            break\n",
    "        count += 1\n",
    "    \n",
    "    return coordinates_list"
   ]
  },
  {
   "cell_type": "code",
   "execution_count": 143,
   "id": "1ab0eb0b-6bdb-42c3-8193-f9673b553caf",
   "metadata": {},
   "outputs": [],
   "source": [
    "tmp = get_rcoordinates('World_Countries.shp', 'Afghan')"
   ]
  },
  {
   "cell_type": "code",
   "execution_count": 144,
   "id": "ae6dea5b-6472-4f16-a00d-03840049a613",
   "metadata": {},
   "outputs": [
    {
     "data": {
      "text/plain": [
       "(61.27655792236328, 35.60724639892578)"
      ]
     },
     "execution_count": 144,
     "metadata": {},
     "output_type": "execute_result"
    }
   ],
   "source": [
    "tmp"
   ]
  },
  {
   "cell_type": "code",
   "execution_count": 1,
   "id": "8761953a-9143-4b48-a975-69dccdd90df2",
   "metadata": {
    "tags": []
   },
   "outputs": [
    {
     "name": "stdout",
     "output_type": "stream",
     "text": [
      "Requirement already satisfied: pandas in /home/rajkumarcm/venv/lib/python3.8/site-packages (1.4.3)\n",
      "Requirement already satisfied: numpy>=1.18.5 in /home/rajkumarcm/venv/lib/python3.8/site-packages (from pandas) (1.23.1)\n",
      "Requirement already satisfied: python-dateutil>=2.8.1 in /home/rajkumarcm/venv/lib/python3.8/site-packages (from pandas) (2.8.2)\n",
      "Requirement already satisfied: pytz>=2020.1 in /home/rajkumarcm/venv/lib/python3.8/site-packages (from pandas) (2022.1)\n",
      "Requirement already satisfied: six>=1.5 in /home/rajkumarcm/venv/lib/python3.8/site-packages (from python-dateutil>=2.8.1->pandas) (1.16.0)\n"
     ]
    }
   ],
   "source": [
    "!pip install pandas"
   ]
  },
  {
   "cell_type": "code",
   "execution_count": null,
   "id": "3e04b9c1-c59a-4fe2-92fc-84e72f12e7cc",
   "metadata": {},
   "outputs": [],
   "source": []
  }
 ],
 "metadata": {
  "kernelspec": {
   "display_name": "Python 3 (ipykernel)",
   "language": "python",
   "name": "python3"
  },
  "language_info": {
   "codemirror_mode": {
    "name": "ipython",
    "version": 3
   },
   "file_extension": ".py",
   "mimetype": "text/x-python",
   "name": "python",
   "nbconvert_exporter": "python",
   "pygments_lexer": "ipython3",
   "version": "3.8.10"
  }
 },
 "nbformat": 4,
 "nbformat_minor": 5
}

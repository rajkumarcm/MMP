{
 "cells": [
  {
   "cell_type": "code",
   "execution_count": 31,
   "id": "1d653274-6dc2-4c4d-aa2e-2bfd3090fcaa",
   "metadata": {},
   "outputs": [],
   "source": [
    "import re\n",
    "import random\n",
    "import numpy as np\n",
    "import shapefile as spf\n",
    "from shapely.geometry import shape, Point"
   ]
  },
  {
   "cell_type": "code",
   "execution_count": 32,
   "id": "8bb62736-4deb-42c8-925c-9dac5e172bd9",
   "metadata": {},
   "outputs": [],
   "source": [
    "%config Completer.use_jedi = False"
   ]
  },
  {
   "cell_type": "code",
   "execution_count": 33,
   "id": "c3fd9786-42bb-444b-bb55-b35d02d0250e",
   "metadata": {
    "tags": []
   },
   "outputs": [],
   "source": [
    "def get_rcoordinates(country, path='World_Countries.shp'):  \n",
    "    \n",
    "    def is_match(text):\n",
    "        match = re.match(f'.*{country}.*', text)\n",
    "        return match\n",
    "    \n",
    "    # Read the shape file that contains list of countries with their unique ID\n",
    "    country_list = spf.Reader(path)\n",
    "    \n",
    "    # get the record that belong to the country we have queried the function\n",
    "    try:\n",
    "        country = [c for c in country_list.records() if is_match(c.__str__()) is not None][0] # [0] to extract the only item from the list\n",
    "    except IndexError:\n",
    "        return None\n",
    "    \n",
    "    # Extract the country ID from the variable country\n",
    "    country_id = int(re.findall(r'\\d+', country.__str__())[0])\n",
    "    \n",
    "    # Get the coordinates from the polygon details dictionary\n",
    "    coordinates_list = country_list.shapeRecords()[country_id].shape.__geo_interface__['coordinates']\n",
    "    \n",
    "    coordinates = None\n",
    "    tol = 100\n",
    "    count = 0\n",
    "    while count < tol:\n",
    "        if len(coordinates_list) == 2 and isinstance(coordinates_list[0], float):\n",
    "            coordinates = coordinates_list\n",
    "            break\n",
    "        else:\n",
    "            coordinates_list = coordinates_list[0]\n",
    "        count += 1\n",
    "    \n",
    "    return [coordinates_list[0], coordinates_list[1]]"
   ]
  },
  {
   "cell_type": "code",
   "execution_count": 34,
   "id": "1ab0eb0b-6bdb-42c3-8193-f9673b553caf",
   "metadata": {},
   "outputs": [],
   "source": [
    "tmp = get_rcoordinates('Ellala')"
   ]
  },
  {
   "cell_type": "code",
   "execution_count": 35,
   "id": "ae6dea5b-6472-4f16-a00d-03840049a613",
   "metadata": {},
   "outputs": [],
   "source": [
    "tmp"
   ]
  },
  {
   "cell_type": "code",
   "execution_count": 36,
   "id": "3e04b9c1-c59a-4fe2-92fc-84e72f12e7cc",
   "metadata": {},
   "outputs": [],
   "source": [
    "import pandas as pd"
   ]
  },
  {
   "cell_type": "code",
   "execution_count": 37,
   "id": "07c6d0ce-4559-4c55-a0e7-76fd98cec3ad",
   "metadata": {},
   "outputs": [],
   "source": [
    "edges = pd.read_csv('../data/relationshipsmmp.csv', header=0)"
   ]
  },
  {
   "cell_type": "code",
   "execution_count": 38,
   "id": "acfde02d-aabf-426e-9093-c694c5b02119",
   "metadata": {},
   "outputs": [
    {
     "data": {
      "text/html": [
       "<div>\n",
       "<style scoped>\n",
       "    .dataframe tbody tr th:only-of-type {\n",
       "        vertical-align: middle;\n",
       "    }\n",
       "\n",
       "    .dataframe tbody tr th {\n",
       "        vertical-align: top;\n",
       "    }\n",
       "\n",
       "    .dataframe thead th {\n",
       "        text-align: right;\n",
       "    }\n",
       "</style>\n",
       "<table border=\"1\" class=\"dataframe\">\n",
       "  <thead>\n",
       "    <tr style=\"text-align: right;\">\n",
       "      <th></th>\n",
       "      <th>link_id</th>\n",
       "      <th>type</th>\n",
       "      <th>group1_id</th>\n",
       "      <th>group2_id</th>\n",
       "      <th>description</th>\n",
       "      <th>group1_name</th>\n",
       "      <th>group2_name</th>\n",
       "      <th>year</th>\n",
       "      <th>multiple</th>\n",
       "      <th>map_name</th>\n",
       "      <th>primary</th>\n",
       "    </tr>\n",
       "  </thead>\n",
       "  <tbody>\n",
       "    <tr>\n",
       "      <th>0</th>\n",
       "      <td>1633.0</td>\n",
       "      <td>Rivals</td>\n",
       "      <td>61.0</td>\n",
       "      <td>113.0</td>\n",
       "      <td>Hizbul Islam fighters attacked the Somali bord...</td>\n",
       "      <td>Al Shabaab</td>\n",
       "      <td>Hizbul Islam</td>\n",
       "      <td>2010.0</td>\n",
       "      <td>0.0</td>\n",
       "      <td>Somalia</td>\n",
       "      <td>Somalia</td>\n",
       "    </tr>\n",
       "    <tr>\n",
       "      <th>1</th>\n",
       "      <td>1635.0</td>\n",
       "      <td>Allies</td>\n",
       "      <td>61.0</td>\n",
       "      <td>113.0</td>\n",
       "      <td>Hizbul Islam and Al Shabaab conducted a joint ...</td>\n",
       "      <td>Al Shabaab</td>\n",
       "      <td>Hizbul Islam</td>\n",
       "      <td>2009.0</td>\n",
       "      <td>0.0</td>\n",
       "      <td>Somalia</td>\n",
       "      <td>Somalia</td>\n",
       "    </tr>\n",
       "    <tr>\n",
       "      <th>2</th>\n",
       "      <td>1475.0</td>\n",
       "      <td>Allies</td>\n",
       "      <td>5.0</td>\n",
       "      <td>3.0</td>\n",
       "      <td>Although the Mujahideen Army and the Islamic A...</td>\n",
       "      <td>Islamic Army in Iraq</td>\n",
       "      <td>Mujahideen Army</td>\n",
       "      <td>2005.0</td>\n",
       "      <td>1.0</td>\n",
       "      <td>Global Al Qaeda</td>\n",
       "      <td>Iraq</td>\n",
       "    </tr>\n",
       "    <tr>\n",
       "      <th>3</th>\n",
       "      <td>1431.0</td>\n",
       "      <td>Allies</td>\n",
       "      <td>5.0</td>\n",
       "      <td>3.0</td>\n",
       "      <td>The Islamic Army of Iraq claimed that it and t...</td>\n",
       "      <td>Islamic Army in Iraq</td>\n",
       "      <td>Mujahideen Army</td>\n",
       "      <td>2014.0</td>\n",
       "      <td>1.0</td>\n",
       "      <td>Global Al Qaeda</td>\n",
       "      <td>Iraq</td>\n",
       "    </tr>\n",
       "    <tr>\n",
       "      <th>4</th>\n",
       "      <td>1475.0</td>\n",
       "      <td>Allies</td>\n",
       "      <td>5.0</td>\n",
       "      <td>3.0</td>\n",
       "      <td>Although the Mujahideen Army and the Islamic A...</td>\n",
       "      <td>Islamic Army in Iraq</td>\n",
       "      <td>Mujahideen Army</td>\n",
       "      <td>2005.0</td>\n",
       "      <td>1.0</td>\n",
       "      <td>Iraq</td>\n",
       "      <td>Iraq</td>\n",
       "    </tr>\n",
       "  </tbody>\n",
       "</table>\n",
       "</div>"
      ],
      "text/plain": [
       "   link_id    type  group1_id  group2_id  \\\n",
       "0   1633.0  Rivals       61.0      113.0   \n",
       "1   1635.0  Allies       61.0      113.0   \n",
       "2   1475.0  Allies        5.0        3.0   \n",
       "3   1431.0  Allies        5.0        3.0   \n",
       "4   1475.0  Allies        5.0        3.0   \n",
       "\n",
       "                                         description           group1_name  \\\n",
       "0  Hizbul Islam fighters attacked the Somali bord...            Al Shabaab   \n",
       "1  Hizbul Islam and Al Shabaab conducted a joint ...            Al Shabaab   \n",
       "2  Although the Mujahideen Army and the Islamic A...  Islamic Army in Iraq   \n",
       "3  The Islamic Army of Iraq claimed that it and t...  Islamic Army in Iraq   \n",
       "4  Although the Mujahideen Army and the Islamic A...  Islamic Army in Iraq   \n",
       "\n",
       "       group2_name    year  multiple         map_name  primary  \n",
       "0    Hizbul Islam   2010.0       0.0          Somalia  Somalia  \n",
       "1    Hizbul Islam   2009.0       0.0          Somalia  Somalia  \n",
       "2  Mujahideen Army  2005.0       1.0  Global Al Qaeda     Iraq  \n",
       "3  Mujahideen Army  2014.0       1.0  Global Al Qaeda     Iraq  \n",
       "4  Mujahideen Army  2005.0       1.0             Iraq     Iraq  "
      ]
     },
     "execution_count": 38,
     "metadata": {},
     "output_type": "execute_result"
    }
   ],
   "source": [
    "edges.head(5)"
   ]
  },
  {
   "cell_type": "code",
   "execution_count": 39,
   "id": "83f672f9-62ab-4158-85bc-49e091830ee5",
   "metadata": {},
   "outputs": [],
   "source": [
    "maps = edges.map_name.unique()\n",
    "maps_coords = {}\n",
    "missing_maps = []\n",
    "complete_maps = []\n",
    "for i in range(len(maps)):\n",
    "    map_name = maps[i]\n",
    "    coordinates = get_rcoordinates(map_name)\n",
    "    if coordinates is not None:\n",
    "        maps_coords[map_name] = coordinates\n",
    "        complete_maps.append(map_name)\n",
    "    else:\n",
    "        missing_maps.append(map_name)"
   ]
  },
  {
   "cell_type": "code",
   "execution_count": 40,
   "id": "992a4938-f2cf-4f69-9414-bdd59256858e",
   "metadata": {},
   "outputs": [
    {
     "data": {
      "text/plain": [
       "['Global Al Qaeda',\n",
       " 'Global Islamic State',\n",
       " 'Kurdistan',\n",
       " 'North Africa',\n",
       " 'Pakistan -- All',\n",
       " 'Northern Ireland',\n",
       " 'North Caucasus',\n",
       " 'Aleppo',\n",
       " nan,\n",
       " 'Global Right-Wing Extremism']"
      ]
     },
     "execution_count": 40,
     "metadata": {},
     "output_type": "execute_result"
    }
   ],
   "source": [
    "missing_maps"
   ]
  },
  {
   "cell_type": "code",
   "execution_count": 41,
   "id": "3012c804-411d-4223-882b-60ef149ab571",
   "metadata": {},
   "outputs": [
    {
     "data": {
      "text/plain": [
       "['Somalia',\n",
       " 'Iraq',\n",
       " 'Syria',\n",
       " 'Colombia',\n",
       " 'Pakistan',\n",
       " 'Italy',\n",
       " 'Germany',\n",
       " 'Philippines',\n",
       " 'Sri Lanka',\n",
       " 'Mexico']"
      ]
     },
     "execution_count": 41,
     "metadata": {},
     "output_type": "execute_result"
    }
   ],
   "source": [
    "complete_maps"
   ]
  },
  {
   "cell_type": "code",
   "execution_count": 42,
   "id": "f453774e-45f4-42cb-a5ce-a8c906e5e8a0",
   "metadata": {},
   "outputs": [],
   "source": [
    "# For now, fill in invalid map_name with random valid location name\n",
    "\n",
    "for imn in missing_maps:\n",
    "    maps_coords[imn] = get_rcoordinates(np.random.choice(complete_maps))\n",
    "\n",
    "# maps_coords['Global Al Qaeda'] = get_rcoordinates('Iraq')\n",
    "# maps_coords['Global Islamic State'] = get_rcoordinates('Pakistan')\n",
    "# maps_coords['Kurdistan'] = get_rcoordinates('Iraq')\n",
    "# maps_coords['North Africa'] = get_rcoordinates('Africa')\n",
    "# maps_coords['Pakistan -- All'] = get_rcoordinates('Pakistan')\n",
    "# maps_coords['Northern Ireland'] = get_rcoordinates('Ireland')\n",
    "# maps_coords['North Caucasus'] = get_rcoordinates('Iraq')\n",
    "# maps_coords['Aleppo'] = get_rcoordinates('Iraq')\n",
    "# maps_coords['Global Right-Wing Extremism'] = get_rcoordinates('Iraq')"
   ]
  },
  {
   "cell_type": "code",
   "execution_count": 43,
   "id": "c46a6e96-d06f-442b-b5cb-a910815a4725",
   "metadata": {},
   "outputs": [
    {
     "data": {
      "text/plain": [
       "{'Somalia': [42.073883056640625, 4.176146507263184],\n",
       " 'Iraq': [39.19674301147461, 32.15494155883789],\n",
       " 'Syria': [35.66961669921875, 33.25171661376953],\n",
       " 'Colombia': [-81.71305847167969, 12.490276336669922],\n",
       " 'Pakistan': [63.230438232421875, 29.473697662353516],\n",
       " 'Italy': [12.75357437133789, 43.97100067138672],\n",
       " 'Germany': [7.369014739990234, 49.16877746582031],\n",
       " 'Philippines': [121.51332092285156, 19.249160766601562],\n",
       " 'Sri Lanka': [81.78526306152344, 6.67249870300293],\n",
       " 'Mexico': [-97.77687072753906, 22.268054962158203],\n",
       " 'Global Al Qaeda': [-81.71305847167969, 12.490276336669922],\n",
       " 'Global Islamic State': [12.75357437133789, 43.97100067138672],\n",
       " 'Kurdistan': [42.073883056640625, 4.176146507263184],\n",
       " 'North Africa': [35.66961669921875, 33.25171661376953],\n",
       " 'Pakistan -- All': [-97.77687072753906, 22.268054962158203],\n",
       " 'Northern Ireland': [39.19674301147461, 32.15494155883789],\n",
       " 'North Caucasus': [-81.71305847167969, 12.490276336669922],\n",
       " 'Aleppo': [81.78526306152344, 6.67249870300293],\n",
       " nan: [81.78526306152344, 6.67249870300293],\n",
       " 'Global Right-Wing Extremism': [-81.71305847167969, 12.490276336669922]}"
      ]
     },
     "execution_count": 43,
     "metadata": {},
     "output_type": "execute_result"
    }
   ],
   "source": [
    "maps_coords"
   ]
  },
  {
   "cell_type": "code",
   "execution_count": 44,
   "id": "12ad3d24-463f-484d-9b44-b47145e102c3",
   "metadata": {},
   "outputs": [],
   "source": [
    "maps_coord = pd.DataFrame.from_dict(maps_coords, orient='index', columns=['lat', 'long'])"
   ]
  },
  {
   "cell_type": "code",
   "execution_count": 45,
   "id": "ac4c8d68-0d8b-4bc9-830e-1a052330d718",
   "metadata": {},
   "outputs": [],
   "source": [
    "maps_coord.to_csv('../data/maps_coord.csv')"
   ]
  },
  {
   "cell_type": "code",
   "execution_count": 48,
   "id": "801f47d2-5285-4ef0-8e5f-9cc087e4358f",
   "metadata": {},
   "outputs": [],
   "source": []
  }
 ],
 "metadata": {
  "kernelspec": {
   "display_name": "Python 3 (ipykernel)",
   "language": "python",
   "name": "python3"
  },
  "language_info": {
   "codemirror_mode": {
    "name": "ipython",
    "version": 3
   },
   "file_extension": ".py",
   "mimetype": "text/x-python",
   "name": "python",
   "nbconvert_exporter": "python",
   "pygments_lexer": "ipython3",
   "version": "3.9.13"
  }
 },
 "nbformat": 4,
 "nbformat_minor": 5
}

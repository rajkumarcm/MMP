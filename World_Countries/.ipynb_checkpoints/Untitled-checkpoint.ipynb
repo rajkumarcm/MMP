{
 "cells": [
  {
   "cell_type": "code",
   "execution_count": 1,
   "id": "1d653274-6dc2-4c4d-aa2e-2bfd3090fcaa",
   "metadata": {},
   "outputs": [],
   "source": [
    "import re\n",
    "import random\n",
    "import numpy as np\n",
    "import shapefile as spf\n",
    "from shapely.geometry import shape, Point"
   ]
  },
  {
   "cell_type": "code",
   "execution_count": 2,
   "id": "8bb62736-4deb-42c8-925c-9dac5e172bd9",
   "metadata": {},
   "outputs": [],
   "source": [
    "%config Completer.use_jedi = False"
   ]
  },
  {
   "cell_type": "code",
   "execution_count": 3,
   "id": "c3fd9786-42bb-444b-bb55-b35d02d0250e",
   "metadata": {
    "tags": []
   },
   "outputs": [],
   "source": [
    "def get_rcoordinates(country, path='World_Countries.shp'):  \n",
    "    \n",
    "    def is_match(text):\n",
    "        match = re.match(f'.*{country}.*', text)\n",
    "        return match\n",
    "    \n",
    "    # Read the shape file that contains list of countries with their unique ID\n",
    "    country_list = spf.Reader(path)\n",
    "    \n",
    "    # get the record that belong to the country we have queried the function\n",
    "    try:\n",
    "        country = [c for c in country_list.records() if is_match(c.__str__()) is not None][0] # [0] to extract the only item from the list\n",
    "    except IndexError:\n",
    "        return None\n",
    "    \n",
    "    # Extract the country ID from the variable country\n",
    "    country_id = int(re.findall(r'\\d+', country.__str__())[0])\n",
    "    \n",
    "    # Get the coordinates from the polygon details dictionary\n",
    "    coordinates_list = country_list.shapeRecords()[country_id].shape.__geo_interface__['coordinates']\n",
    "    \n",
    "    coordinates = None\n",
    "    tol = 100\n",
    "    count = 0\n",
    "    while count < tol:\n",
    "        if len(coordinates_list) == 2 and isinstance(coordinates_list[0], float):\n",
    "            coordinates = coordinates_list\n",
    "            break\n",
    "        else:\n",
    "            coordinates_list = coordinates_list[0]\n",
    "        count += 1\n",
    "    \n",
    "    return coordinates_list"
   ]
  },
  {
   "cell_type": "code",
   "execution_count": 4,
   "id": "1ab0eb0b-6bdb-42c3-8193-f9673b553caf",
   "metadata": {},
   "outputs": [],
   "source": [
    "tmp = get_rcoordinates('Ellala')"
   ]
  },
  {
   "cell_type": "code",
   "execution_count": 5,
   "id": "ae6dea5b-6472-4f16-a00d-03840049a613",
   "metadata": {},
   "outputs": [],
   "source": [
    "tmp"
   ]
  },
  {
   "cell_type": "code",
   "execution_count": 7,
   "id": "3e04b9c1-c59a-4fe2-92fc-84e72f12e7cc",
   "metadata": {},
   "outputs": [],
   "source": [
    "import pandas as pd"
   ]
  },
  {
   "cell_type": "code",
   "execution_count": 24,
   "id": "07c6d0ce-4559-4c55-a0e7-76fd98cec3ad",
   "metadata": {},
   "outputs": [],
   "source": [
    "nodes = pd.read_csv('../data/mmpgroupsfull.csv', header=0)"
   ]
  },
  {
   "cell_type": "code",
   "execution_count": 25,
   "id": "acfde02d-aabf-426e-9093-c694c5b02119",
   "metadata": {},
   "outputs": [
    {
     "data": {
      "text/html": [
       "<div>\n",
       "<style scoped>\n",
       "    .dataframe tbody tr th:only-of-type {\n",
       "        vertical-align: middle;\n",
       "    }\n",
       "\n",
       "    .dataframe tbody tr th {\n",
       "        vertical-align: top;\n",
       "    }\n",
       "\n",
       "    .dataframe thead th {\n",
       "        text-align: right;\n",
       "    }\n",
       "</style>\n",
       "<table border=\"1\" class=\"dataframe\">\n",
       "  <thead>\n",
       "    <tr style=\"text-align: right;\">\n",
       "      <th></th>\n",
       "      <th>group_id</th>\n",
       "      <th>group_name</th>\n",
       "      <th>startyear</th>\n",
       "      <th>endyear</th>\n",
       "      <th>active</th>\n",
       "      <th>complete</th>\n",
       "      <th>description</th>\n",
       "      <th>on_any_map</th>\n",
       "      <th>map_name</th>\n",
       "      <th>_merge</th>\n",
       "    </tr>\n",
       "  </thead>\n",
       "  <tbody>\n",
       "    <tr>\n",
       "      <th>0</th>\n",
       "      <td>1</td>\n",
       "      <td>The Islamic State</td>\n",
       "      <td>2002.0</td>\n",
       "      <td>0.0</td>\n",
       "      <td>1.0</td>\n",
       "      <td>1.0</td>\n",
       "      <td>The Islamic State (IS) also known as the Islam...</td>\n",
       "      <td>1.0</td>\n",
       "      <td>Aleppo</td>\n",
       "      <td>matched (3)</td>\n",
       "    </tr>\n",
       "    <tr>\n",
       "      <th>1</th>\n",
       "      <td>3</td>\n",
       "      <td>Mujahideen Army</td>\n",
       "      <td>2004.0</td>\n",
       "      <td>0.0</td>\n",
       "      <td>1.0</td>\n",
       "      <td>1.0</td>\n",
       "      <td>The Mujahideen Army (MA) is a Sunni Iraqi mili...</td>\n",
       "      <td>1.0</td>\n",
       "      <td>Global Al Qaeda</td>\n",
       "      <td>matched (3)</td>\n",
       "    </tr>\n",
       "    <tr>\n",
       "      <th>2</th>\n",
       "      <td>5</td>\n",
       "      <td>Islamic Army in Iraq</td>\n",
       "      <td>2003.0</td>\n",
       "      <td>0.0</td>\n",
       "      <td>1.0</td>\n",
       "      <td>1.0</td>\n",
       "      <td>The Islamic Army in Iraq (IAI) is a Sunni Isla...</td>\n",
       "      <td>1.0</td>\n",
       "      <td>Global Al Qaeda</td>\n",
       "      <td>matched (3)</td>\n",
       "    </tr>\n",
       "    <tr>\n",
       "      <th>3</th>\n",
       "      <td>9</td>\n",
       "      <td>1920s Revolution Brigades</td>\n",
       "      <td>2003.0</td>\n",
       "      <td>0.0</td>\n",
       "      <td>1.0</td>\n",
       "      <td>1.0</td>\n",
       "      <td>Founded in 2003, the 1920s Revolution Brigades...</td>\n",
       "      <td>1.0</td>\n",
       "      <td>Iraq</td>\n",
       "      <td>matched (3)</td>\n",
       "    </tr>\n",
       "    <tr>\n",
       "      <th>4</th>\n",
       "      <td>11</td>\n",
       "      <td>Ansar al-Sunna Shariah</td>\n",
       "      <td>2007.0</td>\n",
       "      <td>0.0</td>\n",
       "      <td>1.0</td>\n",
       "      <td>1.0</td>\n",
       "      <td>Ansar al-Sunna Sharia (AS Shariah) is an Iraqi...</td>\n",
       "      <td>1.0</td>\n",
       "      <td>Iraq</td>\n",
       "      <td>matched (3)</td>\n",
       "    </tr>\n",
       "  </tbody>\n",
       "</table>\n",
       "</div>"
      ],
      "text/plain": [
       "   group_id                 group_name  startyear  endyear  active  complete  \\\n",
       "0         1          The Islamic State     2002.0      0.0     1.0       1.0   \n",
       "1         3            Mujahideen Army     2004.0      0.0     1.0       1.0   \n",
       "2         5       Islamic Army in Iraq     2003.0      0.0     1.0       1.0   \n",
       "3         9  1920s Revolution Brigades     2003.0      0.0     1.0       1.0   \n",
       "4        11     Ansar al-Sunna Shariah     2007.0      0.0     1.0       1.0   \n",
       "\n",
       "                                         description  on_any_map  \\\n",
       "0  The Islamic State (IS) also known as the Islam...         1.0   \n",
       "1  The Mujahideen Army (MA) is a Sunni Iraqi mili...         1.0   \n",
       "2  The Islamic Army in Iraq (IAI) is a Sunni Isla...         1.0   \n",
       "3  Founded in 2003, the 1920s Revolution Brigades...         1.0   \n",
       "4  Ansar al-Sunna Sharia (AS Shariah) is an Iraqi...         1.0   \n",
       "\n",
       "          map_name       _merge  \n",
       "0           Aleppo  matched (3)  \n",
       "1  Global Al Qaeda  matched (3)  \n",
       "2  Global Al Qaeda  matched (3)  \n",
       "3             Iraq  matched (3)  \n",
       "4             Iraq  matched (3)  "
      ]
     },
     "execution_count": 25,
     "metadata": {},
     "output_type": "execute_result"
    }
   ],
   "source": [
    "nodes.head(5)"
   ]
  },
  {
   "cell_type": "code",
   "execution_count": 42,
   "id": "83f672f9-62ab-4158-85bc-49e091830ee5",
   "metadata": {},
   "outputs": [],
   "source": [
    "nodes['lat'] = 0\n",
    "nodes['long'] = 0\n",
    "for i in range(nodes.shape[0]):\n",
    "    coordinates = get_rcoordinates(nodes.loc[i, 'map_name'])\n",
    "    if coordinates is not None:\n",
    "        nodes.loc[i, 'long'] = coordinates[1]\n",
    "        nodes.loc[i, 'lat'] = coordinates[0]\n",
    "        if coordinates[0] == np.Inf or coordinates[1] == np.Inf:\n",
    "            print(f'group_id: {group_id}, group_name: {group_name} has Inf lat, long')"
   ]
  },
  {
   "cell_type": "code",
   "execution_count": 43,
   "id": "2dbb4861-369f-4a83-b72f-8c5500df7c1a",
   "metadata": {},
   "outputs": [
    {
     "data": {
      "text/plain": [
       "0"
      ]
     },
     "execution_count": 43,
     "metadata": {},
     "output_type": "execute_result"
    }
   ],
   "source": [
    "sum(nodes['lat'] == 'Inf')"
   ]
  },
  {
   "cell_type": "code",
   "execution_count": 44,
   "id": "1a065727-3bc5-49be-9172-4ce4b7dc6877",
   "metadata": {},
   "outputs": [
    {
     "data": {
      "text/plain": [
       "array(['Aleppo', 'Global Al Qaeda', 'Pakistan -- All', nan,\n",
       "       'Global Islamic State', 'Northern Ireland', 'North Caucasus',\n",
       "       'North Africa', 'Kurdistan', 'Global Right-Wing Extremism'],\n",
       "      dtype=object)"
      ]
     },
     "execution_count": 44,
     "metadata": {},
     "output_type": "execute_result"
    }
   ],
   "source": [
    "nodes.loc[(nodes['long'] == 0) & (nodes['lat'] == 0), 'map_name'].unique()"
   ]
  },
  {
   "cell_type": "code",
   "execution_count": 45,
   "id": "36d51d99-78c0-432e-b222-d25449085f9c",
   "metadata": {},
   "outputs": [],
   "source": [
    "get_rcoordinates('Kurdistan')"
   ]
  },
  {
   "cell_type": "code",
   "execution_count": 46,
   "id": "4910f896-9fc3-4f5f-8bbb-3de49965a8f8",
   "metadata": {},
   "outputs": [],
   "source": [
    "nodes.loc[nodes['map_name']=='Aleppo', ['long', 'lat']] = get_rcoordinates('Syria')\n",
    "nodes.loc[nodes['map_name']=='Global Al Qaeda', ['long', 'lat']] = get_rcoordinates('Iraq') # For now\n",
    "nodes.loc[nodes['map_name']=='Pakistan -- All', ['long', 'lat']] = get_rcoordinates('Pakistan') # For now\n",
    "nodes.loc[nodes['map_name']=='Global Islamic State', ['long', 'lat']] = get_rcoordinates('Pakistan') # For now\n",
    "nodes.loc[nodes['map_name']=='Northern Ireland', ['long', 'lat']] = get_rcoordinates('Ireland') # For now\n",
    "nodes.loc[nodes['map_name']=='North Caucasus', ['long', 'lat']] = get_rcoordinates('Caucasus') # For now\n",
    "nodes.loc[nodes['map_name']=='North Africa', ['long', 'lat']] = get_rcoordinates('Africa') # For now\n",
    "nodes.loc[nodes['map_name']=='Kurdistan', ['long', 'lat']] = get_rcoordinates('Iraw') # For now\n",
    "nodes.loc[nodes['map_name']=='Global Right-Wing Extremism', ['long', 'lat']] = get_rcoordinates('Pakistan') # For now"
   ]
  },
  {
   "cell_type": "code",
   "execution_count": 47,
   "id": "1043a367-853e-4563-8ae6-c1b583c770a3",
   "metadata": {},
   "outputs": [],
   "source": [
    "nodes.to_csv('../data/new_nodes.csv')"
   ]
  },
  {
   "cell_type": "code",
   "execution_count": 48,
   "id": "fb83902d-fffb-4bcb-af70-a2c17c022107",
   "metadata": {},
   "outputs": [
    {
     "data": {
      "text/html": [
       "<div>\n",
       "<style scoped>\n",
       "    .dataframe tbody tr th:only-of-type {\n",
       "        vertical-align: middle;\n",
       "    }\n",
       "\n",
       "    .dataframe tbody tr th {\n",
       "        vertical-align: top;\n",
       "    }\n",
       "\n",
       "    .dataframe thead th {\n",
       "        text-align: right;\n",
       "    }\n",
       "</style>\n",
       "<table border=\"1\" class=\"dataframe\">\n",
       "  <thead>\n",
       "    <tr style=\"text-align: right;\">\n",
       "      <th></th>\n",
       "      <th>group_id</th>\n",
       "      <th>group_name</th>\n",
       "      <th>startyear</th>\n",
       "      <th>endyear</th>\n",
       "      <th>active</th>\n",
       "      <th>complete</th>\n",
       "      <th>description</th>\n",
       "      <th>on_any_map</th>\n",
       "      <th>map_name</th>\n",
       "      <th>_merge</th>\n",
       "      <th>lat</th>\n",
       "      <th>long</th>\n",
       "    </tr>\n",
       "  </thead>\n",
       "  <tbody>\n",
       "    <tr>\n",
       "      <th>0</th>\n",
       "      <td>1</td>\n",
       "      <td>The Islamic State</td>\n",
       "      <td>2002.0</td>\n",
       "      <td>0.0</td>\n",
       "      <td>1.0</td>\n",
       "      <td>1.0</td>\n",
       "      <td>The Islamic State (IS) also known as the Islam...</td>\n",
       "      <td>1.0</td>\n",
       "      <td>Aleppo</td>\n",
       "      <td>matched (3)</td>\n",
       "      <td>33.251717</td>\n",
       "      <td>35.669617</td>\n",
       "    </tr>\n",
       "    <tr>\n",
       "      <th>1</th>\n",
       "      <td>3</td>\n",
       "      <td>Mujahideen Army</td>\n",
       "      <td>2004.0</td>\n",
       "      <td>0.0</td>\n",
       "      <td>1.0</td>\n",
       "      <td>1.0</td>\n",
       "      <td>The Mujahideen Army (MA) is a Sunni Iraqi mili...</td>\n",
       "      <td>1.0</td>\n",
       "      <td>Global Al Qaeda</td>\n",
       "      <td>matched (3)</td>\n",
       "      <td>32.154942</td>\n",
       "      <td>39.196743</td>\n",
       "    </tr>\n",
       "    <tr>\n",
       "      <th>2</th>\n",
       "      <td>5</td>\n",
       "      <td>Islamic Army in Iraq</td>\n",
       "      <td>2003.0</td>\n",
       "      <td>0.0</td>\n",
       "      <td>1.0</td>\n",
       "      <td>1.0</td>\n",
       "      <td>The Islamic Army in Iraq (IAI) is a Sunni Isla...</td>\n",
       "      <td>1.0</td>\n",
       "      <td>Global Al Qaeda</td>\n",
       "      <td>matched (3)</td>\n",
       "      <td>32.154942</td>\n",
       "      <td>39.196743</td>\n",
       "    </tr>\n",
       "    <tr>\n",
       "      <th>3</th>\n",
       "      <td>9</td>\n",
       "      <td>1920s Revolution Brigades</td>\n",
       "      <td>2003.0</td>\n",
       "      <td>0.0</td>\n",
       "      <td>1.0</td>\n",
       "      <td>1.0</td>\n",
       "      <td>Founded in 2003, the 1920s Revolution Brigades...</td>\n",
       "      <td>1.0</td>\n",
       "      <td>Iraq</td>\n",
       "      <td>matched (3)</td>\n",
       "      <td>39.196743</td>\n",
       "      <td>32.154942</td>\n",
       "    </tr>\n",
       "    <tr>\n",
       "      <th>4</th>\n",
       "      <td>11</td>\n",
       "      <td>Ansar al-Sunna Shariah</td>\n",
       "      <td>2007.0</td>\n",
       "      <td>0.0</td>\n",
       "      <td>1.0</td>\n",
       "      <td>1.0</td>\n",
       "      <td>Ansar al-Sunna Sharia (AS Shariah) is an Iraqi...</td>\n",
       "      <td>1.0</td>\n",
       "      <td>Iraq</td>\n",
       "      <td>matched (3)</td>\n",
       "      <td>39.196743</td>\n",
       "      <td>32.154942</td>\n",
       "    </tr>\n",
       "  </tbody>\n",
       "</table>\n",
       "</div>"
      ],
      "text/plain": [
       "   group_id                 group_name  startyear  endyear  active  complete  \\\n",
       "0         1          The Islamic State     2002.0      0.0     1.0       1.0   \n",
       "1         3            Mujahideen Army     2004.0      0.0     1.0       1.0   \n",
       "2         5       Islamic Army in Iraq     2003.0      0.0     1.0       1.0   \n",
       "3         9  1920s Revolution Brigades     2003.0      0.0     1.0       1.0   \n",
       "4        11     Ansar al-Sunna Shariah     2007.0      0.0     1.0       1.0   \n",
       "\n",
       "                                         description  on_any_map  \\\n",
       "0  The Islamic State (IS) also known as the Islam...         1.0   \n",
       "1  The Mujahideen Army (MA) is a Sunni Iraqi mili...         1.0   \n",
       "2  The Islamic Army in Iraq (IAI) is a Sunni Isla...         1.0   \n",
       "3  Founded in 2003, the 1920s Revolution Brigades...         1.0   \n",
       "4  Ansar al-Sunna Sharia (AS Shariah) is an Iraqi...         1.0   \n",
       "\n",
       "          map_name       _merge        lat       long  \n",
       "0           Aleppo  matched (3)  33.251717  35.669617  \n",
       "1  Global Al Qaeda  matched (3)  32.154942  39.196743  \n",
       "2  Global Al Qaeda  matched (3)  32.154942  39.196743  \n",
       "3             Iraq  matched (3)  39.196743  32.154942  \n",
       "4             Iraq  matched (3)  39.196743  32.154942  "
      ]
     },
     "execution_count": 48,
     "metadata": {},
     "output_type": "execute_result"
    }
   ],
   "source": [
    "nodes.head(5)"
   ]
  },
  {
   "cell_type": "code",
   "execution_count": null,
   "id": "12ad3d24-463f-484d-9b44-b47145e102c3",
   "metadata": {},
   "outputs": [],
   "source": []
  }
 ],
 "metadata": {
  "kernelspec": {
   "display_name": "Python 3 (ipykernel)",
   "language": "python",
   "name": "python3"
  },
  "language_info": {
   "codemirror_mode": {
    "name": "ipython",
    "version": 3
   },
   "file_extension": ".py",
   "mimetype": "text/x-python",
   "name": "python",
   "nbconvert_exporter": "python",
   "pygments_lexer": "ipython3",
   "version": "3.8.10"
  }
 },
 "nbformat": 4,
 "nbformat_minor": 5
}

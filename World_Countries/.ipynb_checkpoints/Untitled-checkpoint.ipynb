{
 "cells": [
  {
   "cell_type": "code",
   "execution_count": 1,
   "id": "1d653274-6dc2-4c4d-aa2e-2bfd3090fcaa",
   "metadata": {},
   "outputs": [],
   "source": [
    "import re\n",
    "import random\n",
    "import numpy as np\n",
    "import shapefile as spf\n",
    "from shapely.geometry import shape, Point"
   ]
  },
  {
   "cell_type": "code",
   "execution_count": 78,
   "id": "8bb62736-4deb-42c8-925c-9dac5e172bd9",
   "metadata": {},
   "outputs": [],
   "source": [
    "%config Completer.use_jedi = False"
   ]
  },
  {
   "cell_type": "code",
   "execution_count": 44,
   "id": "c3fd9786-42bb-444b-bb55-b35d02d0250e",
   "metadata": {
    "tags": []
   },
   "outputs": [],
   "source": [
    "def get_rcoordinates(country, path='World_Countries.shp'):  \n",
    "    \n",
    "    def is_match(text):\n",
    "        match = re.match(f'.*{country}.*', text)\n",
    "        return match\n",
    "    \n",
    "    # Read the shape file that contains list of countries with their unique ID\n",
    "    country_list = spf.Reader(path)\n",
    "    \n",
    "    # get the record that belong to the country we have queried the function\n",
    "    try:\n",
    "        country = [c for c in country_list.records() if is_match(c.__str__()) is not None][0] # [0] to extract the only item from the list\n",
    "    except IndexError:\n",
    "        return None\n",
    "    \n",
    "    # Extract the country ID from the variable country\n",
    "    country_id = int(re.findall(r'\\d+', country.__str__())[0])\n",
    "    \n",
    "    # Get the coordinates from the polygon details dictionary\n",
    "    coordinates_list = country_list.shapeRecords()[country_id].shape.__geo_interface__['coordinates']\n",
    "    \n",
    "    coordinates = None\n",
    "    tol = 100\n",
    "    count = 0\n",
    "    while count < tol:\n",
    "        if len(coordinates_list) == 2 and isinstance(coordinates_list[0], float):\n",
    "            coordinates = coordinates_list\n",
    "            break\n",
    "        else:\n",
    "            coordinates_list = coordinates_list[0]\n",
    "        count += 1\n",
    "    \n",
    "    return coordinates_list"
   ]
  },
  {
   "cell_type": "code",
   "execution_count": 45,
   "id": "1ab0eb0b-6bdb-42c3-8193-f9673b553caf",
   "metadata": {},
   "outputs": [],
   "source": [
    "tmp = get_rcoordinates('Ellala')"
   ]
  },
  {
   "cell_type": "code",
   "execution_count": 46,
   "id": "ae6dea5b-6472-4f16-a00d-03840049a613",
   "metadata": {},
   "outputs": [],
   "source": [
    "tmp"
   ]
  },
  {
   "cell_type": "code",
   "execution_count": 47,
   "id": "8761953a-9143-4b48-a975-69dccdd90df2",
   "metadata": {
    "tags": []
   },
   "outputs": [
    {
     "name": "stdout",
     "output_type": "stream",
     "text": [
      "Requirement already satisfied: pandas in /home/rajkumarcm/venv/lib/python3.8/site-packages (1.4.3)\n",
      "Requirement already satisfied: pytz>=2020.1 in /home/rajkumarcm/venv/lib/python3.8/site-packages (from pandas) (2022.1)\n",
      "Requirement already satisfied: python-dateutil>=2.8.1 in /home/rajkumarcm/venv/lib/python3.8/site-packages (from pandas) (2.8.2)\n",
      "Requirement already satisfied: numpy>=1.18.5 in /home/rajkumarcm/venv/lib/python3.8/site-packages (from pandas) (1.23.1)\n",
      "Requirement already satisfied: six>=1.5 in /home/rajkumarcm/venv/lib/python3.8/site-packages (from python-dateutil>=2.8.1->pandas) (1.16.0)\n"
     ]
    }
   ],
   "source": [
    "!pip install pandas"
   ]
  },
  {
   "cell_type": "code",
   "execution_count": 16,
   "id": "3e04b9c1-c59a-4fe2-92fc-84e72f12e7cc",
   "metadata": {},
   "outputs": [],
   "source": [
    "import pandas as pd"
   ]
  },
  {
   "cell_type": "code",
   "execution_count": 65,
   "id": "07c6d0ce-4559-4c55-a0e7-76fd98cec3ad",
   "metadata": {},
   "outputs": [],
   "source": [
    "nodes = pd.read_csv('../data/mmpgroupsfull.csv', header=0)"
   ]
  },
  {
   "cell_type": "code",
   "execution_count": 66,
   "id": "acfde02d-aabf-426e-9093-c694c5b02119",
   "metadata": {},
   "outputs": [
    {
     "data": {
      "text/html": [
       "<div>\n",
       "<style scoped>\n",
       "    .dataframe tbody tr th:only-of-type {\n",
       "        vertical-align: middle;\n",
       "    }\n",
       "\n",
       "    .dataframe tbody tr th {\n",
       "        vertical-align: top;\n",
       "    }\n",
       "\n",
       "    .dataframe thead th {\n",
       "        text-align: right;\n",
       "    }\n",
       "</style>\n",
       "<table border=\"1\" class=\"dataframe\">\n",
       "  <thead>\n",
       "    <tr style=\"text-align: right;\">\n",
       "      <th></th>\n",
       "      <th>group_id</th>\n",
       "      <th>group_name</th>\n",
       "      <th>startyear</th>\n",
       "      <th>endyear</th>\n",
       "      <th>active</th>\n",
       "      <th>complete</th>\n",
       "      <th>description</th>\n",
       "      <th>on_any_map</th>\n",
       "      <th>map_name</th>\n",
       "      <th>_merge</th>\n",
       "    </tr>\n",
       "  </thead>\n",
       "  <tbody>\n",
       "    <tr>\n",
       "      <th>0</th>\n",
       "      <td>1</td>\n",
       "      <td>The Islamic State</td>\n",
       "      <td>2002.0</td>\n",
       "      <td>0.0</td>\n",
       "      <td>1.0</td>\n",
       "      <td>1.0</td>\n",
       "      <td>The Islamic State (IS) also known as the Islam...</td>\n",
       "      <td>1.0</td>\n",
       "      <td>Aleppo</td>\n",
       "      <td>matched (3)</td>\n",
       "    </tr>\n",
       "    <tr>\n",
       "      <th>1</th>\n",
       "      <td>3</td>\n",
       "      <td>Mujahideen Army</td>\n",
       "      <td>2004.0</td>\n",
       "      <td>0.0</td>\n",
       "      <td>1.0</td>\n",
       "      <td>1.0</td>\n",
       "      <td>The Mujahideen Army (MA) is a Sunni Iraqi mili...</td>\n",
       "      <td>1.0</td>\n",
       "      <td>Global Al Qaeda</td>\n",
       "      <td>matched (3)</td>\n",
       "    </tr>\n",
       "    <tr>\n",
       "      <th>2</th>\n",
       "      <td>5</td>\n",
       "      <td>Islamic Army in Iraq</td>\n",
       "      <td>2003.0</td>\n",
       "      <td>0.0</td>\n",
       "      <td>1.0</td>\n",
       "      <td>1.0</td>\n",
       "      <td>The Islamic Army in Iraq (IAI) is a Sunni Isla...</td>\n",
       "      <td>1.0</td>\n",
       "      <td>Global Al Qaeda</td>\n",
       "      <td>matched (3)</td>\n",
       "    </tr>\n",
       "  </tbody>\n",
       "</table>\n",
       "</div>"
      ],
      "text/plain": [
       "   group_id            group_name  startyear  endyear  active  complete  \\\n",
       "0         1     The Islamic State     2002.0      0.0     1.0       1.0   \n",
       "1         3       Mujahideen Army     2004.0      0.0     1.0       1.0   \n",
       "2         5  Islamic Army in Iraq     2003.0      0.0     1.0       1.0   \n",
       "\n",
       "                                         description  on_any_map  \\\n",
       "0  The Islamic State (IS) also known as the Islam...         1.0   \n",
       "1  The Mujahideen Army (MA) is a Sunni Iraqi mili...         1.0   \n",
       "2  The Islamic Army in Iraq (IAI) is a Sunni Isla...         1.0   \n",
       "\n",
       "          map_name       _merge  \n",
       "0           Aleppo  matched (3)  \n",
       "1  Global Al Qaeda  matched (3)  \n",
       "2  Global Al Qaeda  matched (3)  "
      ]
     },
     "execution_count": 66,
     "metadata": {},
     "output_type": "execute_result"
    }
   ],
   "source": [
    "nodes.head(3)"
   ]
  },
  {
   "cell_type": "code",
   "execution_count": 70,
   "id": "83f672f9-62ab-4158-85bc-49e091830ee5",
   "metadata": {},
   "outputs": [],
   "source": [
    "nodes['lat'] = 0\n",
    "nodes['long'] = 0\n",
    "for i in range(nodes.shape[0]):\n",
    "    coordinates = get_rcoordinates(nodes.loc[i, 'map_name'])\n",
    "    if coordinates is not None:\n",
    "        nodes.loc[i, 'long'] = coordinates[1]\n",
    "        nodes.loc[i, 'lat'] = coordinates[0]"
   ]
  },
  {
   "cell_type": "code",
   "execution_count": 71,
   "id": "1a065727-3bc5-49be-9172-4ce4b7dc6877",
   "metadata": {},
   "outputs": [
    {
     "data": {
      "text/plain": [
       "array(['Aleppo', 'Global Al Qaeda', 'Pakistan -- All', nan,\n",
       "       'Global Islamic State', 'Northern Ireland', 'North Caucasus',\n",
       "       'North Africa', 'Kurdistan', 'Global Right-Wing Extremism'],\n",
       "      dtype=object)"
      ]
     },
     "execution_count": 71,
     "metadata": {},
     "output_type": "execute_result"
    }
   ],
   "source": [
    "nodes.loc[(nodes['long'] == 0) & (nodes['lat'] == 0), 'map_name'].unique()"
   ]
  },
  {
   "cell_type": "code",
   "execution_count": 72,
   "id": "aa5b8784-8000-4468-8ad6-323fc462453a",
   "metadata": {},
   "outputs": [
    {
     "data": {
      "text/plain": [
       "(385, 12)"
      ]
     },
     "execution_count": 72,
     "metadata": {},
     "output_type": "execute_result"
    }
   ],
   "source": [
    "nodes.shape"
   ]
  },
  {
   "cell_type": "code",
   "execution_count": 73,
   "id": "36d51d99-78c0-432e-b222-d25449085f9c",
   "metadata": {},
   "outputs": [],
   "source": [
    "get_rcoordinates('Kurdistan')"
   ]
  },
  {
   "cell_type": "code",
   "execution_count": 74,
   "id": "4910f896-9fc3-4f5f-8bbb-3de49965a8f8",
   "metadata": {},
   "outputs": [],
   "source": [
    "nodes.loc[nodes['map_name']=='Aleppo', ['long', 'lat']] = get_rcoordinates('Syria')"
   ]
  },
  {
   "cell_type": "code",
   "execution_count": 75,
   "id": "d8eeb005-3f87-491e-a1a0-e6a2ba481bd1",
   "metadata": {},
   "outputs": [],
   "source": [
    "nodes.loc[nodes['map_name']=='Global Al Qaeda', ['long', 'lat']] = get_rcoordinates('Iraq') # For now"
   ]
  },
  {
   "cell_type": "code",
   "execution_count": 76,
   "id": "232edde6-bc7a-4041-a42e-7ba464f87129",
   "metadata": {},
   "outputs": [],
   "source": [
    "nodes.loc[nodes['map_name']=='Pakistan -- All', ['long', 'lat']] = get_rcoordinates('Pakistan') # For now"
   ]
  },
  {
   "cell_type": "code",
   "execution_count": 80,
   "id": "1043a367-853e-4563-8ae6-c1b583c770a3",
   "metadata": {},
   "outputs": [],
   "source": [
    "nodes.to_csv('../data/new_nodes.csv')"
   ]
  },
  {
   "cell_type": "code",
   "execution_count": null,
   "id": "fb83902d-fffb-4bcb-af70-a2c17c022107",
   "metadata": {},
   "outputs": [],
   "source": []
  }
 ],
 "metadata": {
  "kernelspec": {
   "display_name": "Python 3 (ipykernel)",
   "language": "python",
   "name": "python3"
  },
  "language_info": {
   "codemirror_mode": {
    "name": "ipython",
    "version": 3
   },
   "file_extension": ".py",
   "mimetype": "text/x-python",
   "name": "python",
   "nbconvert_exporter": "python",
   "pygments_lexer": "ipython3",
   "version": "3.8.10"
  }
 },
 "nbformat": 4,
 "nbformat_minor": 5
}

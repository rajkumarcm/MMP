{
 "cells": [
  {
   "cell_type": "code",
   "execution_count": 1,
   "id": "1d653274-6dc2-4c4d-aa2e-2bfd3090fcaa",
   "metadata": {},
   "outputs": [],
   "source": [
    "import re\n",
    "import random\n",
    "import numpy as np\n",
    "import shapefile as spf\n",
    "from shapely.geometry import shape, Point"
   ]
  },
  {
   "cell_type": "code",
   "execution_count": 2,
   "id": "8bb62736-4deb-42c8-925c-9dac5e172bd9",
   "metadata": {},
   "outputs": [],
   "source": [
    "%config Completer.use_jedi = False"
   ]
  },
  {
   "cell_type": "code",
   "execution_count": 3,
   "id": "c3fd9786-42bb-444b-bb55-b35d02d0250e",
   "metadata": {
    "tags": []
   },
   "outputs": [],
   "source": [
    "def get_rcoordinates(country, path='World_Countries.shp'):  \n",
    "    \n",
    "    def is_match(text):\n",
    "        match = re.match(f'.*{country}.*', text)\n",
    "        return match\n",
    "    \n",
    "    # Read the shape file that contains list of countries with their unique ID\n",
    "    country_list = spf.Reader(path)\n",
    "    \n",
    "    # get the record that belong to the country we have queried the function\n",
    "    try:\n",
    "        country = [c for c in country_list.records() if is_match(c.__str__()) is not None][0] # [0] to extract the only item from the list\n",
    "    except IndexError:\n",
    "        return None\n",
    "    \n",
    "    # Extract the country ID from the variable country\n",
    "    country_id = int(re.findall(r'\\d+', country.__str__())[0])\n",
    "    \n",
    "    # Get the coordinates from the polygon details dictionary\n",
    "    coordinates_list = country_list.shapeRecords()[country_id].shape.__geo_interface__['coordinates']\n",
    "    \n",
    "    coordinates = None\n",
    "    tol = 100\n",
    "    count = 0\n",
    "    while count < tol:\n",
    "        if len(coordinates_list) == 2 and isinstance(coordinates_list[0], float):\n",
    "            coordinates = coordinates_list\n",
    "            break\n",
    "        else:\n",
    "            coordinates_list = coordinates_list[0]\n",
    "        count += 1\n",
    "    \n",
    "    return [coordinates_list[0], coordinates_list[1]]"
   ]
  },
  {
   "cell_type": "code",
   "execution_count": 4,
   "id": "3e04b9c1-c59a-4fe2-92fc-84e72f12e7cc",
   "metadata": {},
   "outputs": [],
   "source": [
    "import pandas as pd"
   ]
  },
  {
   "cell_type": "code",
   "execution_count": 5,
   "id": "07c6d0ce-4559-4c55-a0e7-76fd98cec3ad",
   "metadata": {},
   "outputs": [],
   "source": [
    "nodes = pd.read_csv('../data/nodes_sample.csv', header=0)"
   ]
  },
  {
   "cell_type": "code",
   "execution_count": 6,
   "id": "acfde02d-aabf-426e-9093-c694c5b02119",
   "metadata": {},
   "outputs": [
    {
     "data": {
      "text/html": [
       "<div>\n",
       "<style scoped>\n",
       "    .dataframe tbody tr th:only-of-type {\n",
       "        vertical-align: middle;\n",
       "    }\n",
       "\n",
       "    .dataframe tbody tr th {\n",
       "        vertical-align: top;\n",
       "    }\n",
       "\n",
       "    .dataframe thead th {\n",
       "        text-align: right;\n",
       "    }\n",
       "</style>\n",
       "<table border=\"1\" class=\"dataframe\">\n",
       "  <thead>\n",
       "    <tr style=\"text-align: right;\">\n",
       "      <th></th>\n",
       "      <th>group_id</th>\n",
       "      <th>group_name</th>\n",
       "      <th>startyear</th>\n",
       "      <th>endyear</th>\n",
       "      <th>active</th>\n",
       "      <th>complete</th>\n",
       "      <th>description</th>\n",
       "      <th>new_description</th>\n",
       "      <th>on_any_map</th>\n",
       "      <th>map_name</th>\n",
       "      <th>...</th>\n",
       "      <th>hq_country</th>\n",
       "      <th>init_size_members</th>\n",
       "      <th>max_size_members</th>\n",
       "      <th>avg_size_members</th>\n",
       "      <th>us_designated</th>\n",
       "      <th>un_designated</th>\n",
       "      <th>other_designated</th>\n",
       "      <th>state_sponsor</th>\n",
       "      <th>state_sponsor_names</th>\n",
       "      <th>Notes</th>\n",
       "    </tr>\n",
       "  </thead>\n",
       "  <tbody>\n",
       "    <tr>\n",
       "      <th>0</th>\n",
       "      <td>1.0</td>\n",
       "      <td>The Islamic State</td>\n",
       "      <td>2002.0</td>\n",
       "      <td>0.0</td>\n",
       "      <td>1.0</td>\n",
       "      <td>1.0</td>\n",
       "      <td>The Islamic State (IS) also known as the Islam...</td>\n",
       "      <td>NaN</td>\n",
       "      <td>1.0</td>\n",
       "      <td>Global Al Qaeda</td>\n",
       "      <td>...</td>\n",
       "      <td>Iraq</td>\n",
       "      <td>500</td>\n",
       "      <td>30,000</td>\n",
       "      <td>1.0</td>\n",
       "      <td>1.0</td>\n",
       "      <td>0.0</td>\n",
       "      <td>0.0</td>\n",
       "      <td>0</td>\n",
       "      <td>NaN</td>\n",
       "      <td>NaN</td>\n",
       "    </tr>\n",
       "    <tr>\n",
       "      <th>1</th>\n",
       "      <td>3.0</td>\n",
       "      <td>Mujahideen Army</td>\n",
       "      <td>2004.0</td>\n",
       "      <td>0.0</td>\n",
       "      <td>1.0</td>\n",
       "      <td>1.0</td>\n",
       "      <td>The Mujahideen Army (MA) is a Sunni Iraqi mili...</td>\n",
       "      <td>NaN</td>\n",
       "      <td>1.0</td>\n",
       "      <td>Global Al Qaeda</td>\n",
       "      <td>...</td>\n",
       "      <td>Iraq</td>\n",
       "      <td>NaN</td>\n",
       "      <td>NaN</td>\n",
       "      <td>0.0</td>\n",
       "      <td>0.0</td>\n",
       "      <td>0.0</td>\n",
       "      <td>0.0</td>\n",
       "      <td>0</td>\n",
       "      <td>No size estimates</td>\n",
       "      <td>NaN</td>\n",
       "    </tr>\n",
       "    <tr>\n",
       "      <th>2</th>\n",
       "      <td>5.0</td>\n",
       "      <td>Islamic Army in Iraq</td>\n",
       "      <td>2003.0</td>\n",
       "      <td>0.0</td>\n",
       "      <td>1.0</td>\n",
       "      <td>1.0</td>\n",
       "      <td>The Islamic Army in Iraq (IAI) is a Sunni Isla...</td>\n",
       "      <td>NaN</td>\n",
       "      <td>1.0</td>\n",
       "      <td>Global Al Qaeda</td>\n",
       "      <td>...</td>\n",
       "      <td>Iraq</td>\n",
       "      <td>10,400</td>\n",
       "      <td>10,400</td>\n",
       "      <td>0.0</td>\n",
       "      <td>0.0</td>\n",
       "      <td>0.0</td>\n",
       "      <td>0.0</td>\n",
       "      <td>0</td>\n",
       "      <td>NaN</td>\n",
       "      <td>NaN</td>\n",
       "    </tr>\n",
       "    <tr>\n",
       "      <th>3</th>\n",
       "      <td>13.0</td>\n",
       "      <td>Ansar al-Islam</td>\n",
       "      <td>2001.0</td>\n",
       "      <td>2014.0</td>\n",
       "      <td>0.0</td>\n",
       "      <td>1.0</td>\n",
       "      <td>Ansar al-Islam (AI) is a predominantly Kurdish...</td>\n",
       "      <td>NaN</td>\n",
       "      <td>1.0</td>\n",
       "      <td>Global Al Qaeda</td>\n",
       "      <td>...</td>\n",
       "      <td>Iraq</td>\n",
       "      <td>350</td>\n",
       "      <td>1000</td>\n",
       "      <td>1.0</td>\n",
       "      <td>1.0</td>\n",
       "      <td>1.0</td>\n",
       "      <td>1.0</td>\n",
       "      <td>0</td>\n",
       "      <td>Australia, New Zealand, Canada, and the EU; Iran</td>\n",
       "      <td>NaN</td>\n",
       "    </tr>\n",
       "    <tr>\n",
       "      <th>4</th>\n",
       "      <td>19.0</td>\n",
       "      <td>Al Qaeda in the Arabian Peninsula</td>\n",
       "      <td>2009.0</td>\n",
       "      <td>0.0</td>\n",
       "      <td>1.0</td>\n",
       "      <td>1.0</td>\n",
       "      <td>Al Qaeda in the Arabian Peninsula (AQAP) is a ...</td>\n",
       "      <td>NaN</td>\n",
       "      <td>1.0</td>\n",
       "      <td>Global Al Qaeda</td>\n",
       "      <td>...</td>\n",
       "      <td>Yemen</td>\n",
       "      <td>100</td>\n",
       "      <td>3000</td>\n",
       "      <td>1.0</td>\n",
       "      <td>1.0</td>\n",
       "      <td>1.0</td>\n",
       "      <td>0.0</td>\n",
       "      <td>0</td>\n",
       "      <td>Saudi Arabia, UAE</td>\n",
       "      <td>NaN</td>\n",
       "    </tr>\n",
       "  </tbody>\n",
       "</table>\n",
       "<p>5 rows × 24 columns</p>\n",
       "</div>"
      ],
      "text/plain": [
       "   group_id                         group_name  startyear  endyear  active  \\\n",
       "0       1.0                  The Islamic State     2002.0      0.0     1.0   \n",
       "1       3.0                    Mujahideen Army     2004.0      0.0     1.0   \n",
       "2       5.0               Islamic Army in Iraq     2003.0      0.0     1.0   \n",
       "3      13.0                     Ansar al-Islam     2001.0   2014.0     0.0   \n",
       "4      19.0  Al Qaeda in the Arabian Peninsula     2009.0      0.0     1.0   \n",
       "\n",
       "   complete                                        description  \\\n",
       "0       1.0  The Islamic State (IS) also known as the Islam...   \n",
       "1       1.0  The Mujahideen Army (MA) is a Sunni Iraqi mili...   \n",
       "2       1.0  The Islamic Army in Iraq (IAI) is a Sunni Isla...   \n",
       "3       1.0  Ansar al-Islam (AI) is a predominantly Kurdish...   \n",
       "4       1.0  Al Qaeda in the Arabian Peninsula (AQAP) is a ...   \n",
       "\n",
       "  new_description  on_any_map         map_name  ...  hq_country  \\\n",
       "0             NaN         1.0  Global Al Qaeda  ...        Iraq   \n",
       "1             NaN         1.0  Global Al Qaeda  ...        Iraq   \n",
       "2             NaN         1.0  Global Al Qaeda  ...        Iraq   \n",
       "3             NaN         1.0  Global Al Qaeda  ...        Iraq   \n",
       "4             NaN         1.0  Global Al Qaeda  ...       Yemen   \n",
       "\n",
       "   init_size_members max_size_members avg_size_members us_designated  \\\n",
       "0                500           30,000              1.0           1.0   \n",
       "1                NaN              NaN              0.0           0.0   \n",
       "2             10,400           10,400              0.0           0.0   \n",
       "3                350             1000              1.0           1.0   \n",
       "4                100             3000              1.0           1.0   \n",
       "\n",
       "  un_designated other_designated  state_sponsor  \\\n",
       "0           0.0              0.0              0   \n",
       "1           0.0              0.0              0   \n",
       "2           0.0              0.0              0   \n",
       "3           1.0              1.0              0   \n",
       "4           1.0              0.0              0   \n",
       "\n",
       "                                state_sponsor_names  Notes  \n",
       "0                                               NaN    NaN  \n",
       "1                                 No size estimates    NaN  \n",
       "2                                               NaN    NaN  \n",
       "3  Australia, New Zealand, Canada, and the EU; Iran    NaN  \n",
       "4                                 Saudi Arabia, UAE    NaN  \n",
       "\n",
       "[5 rows x 24 columns]"
      ]
     },
     "execution_count": 6,
     "metadata": {},
     "output_type": "execute_result"
    }
   ],
   "source": [
    "nodes.head(5)"
   ]
  },
  {
   "cell_type": "code",
   "execution_count": 7,
   "id": "79533fd6-593b-4835-a243-9d53c71fcee7",
   "metadata": {},
   "outputs": [
    {
     "data": {
      "text/plain": [
       "0               Iraq\n",
       "1              Yemen\n",
       "2        Afghanistan\n",
       "3            Somalia\n",
       "4            Algeria\n",
       "5           Pakistan\n",
       "6            Morocco\n",
       "7        Philippines\n",
       "8          Indonesia\n",
       "9              Egypt\n",
       "10             Syria\n",
       "11           Nigeria\n",
       "12              Mali\n",
       "13            Russia\n",
       "14           Germany\n",
       "15     United States\n",
       "16            Sweden\n",
       "17           Ukraine\n",
       "18    United Kingdom\n",
       "19           Estonia\n",
       "Name: 0, dtype: object"
      ]
     },
     "execution_count": 7,
     "metadata": {},
     "output_type": "execute_result"
    }
   ],
   "source": [
    "maps = nodes.hq_country\n",
    "maps = pd.Series(maps.unique())\n",
    "maps.dropna(inplace=True)\n",
    "maps = maps.reset_index().iloc[:, 1]\n",
    "# maps = maps.hq_country\n",
    "maps"
   ]
  },
  {
   "cell_type": "code",
   "execution_count": 8,
   "id": "83f672f9-62ab-4158-85bc-49e091830ee5",
   "metadata": {},
   "outputs": [],
   "source": [
    "maps = nodes.hq_country\n",
    "maps = pd.Series(maps.unique())\n",
    "maps.dropna(inplace=True)\n",
    "maps = maps.reset_index().iloc[:, 1]\n",
    "maps_coords = {}\n",
    "missing_maps = []\n",
    "complete_maps = []\n",
    "for i in range(len(maps)):\n",
    "    map_name = maps[i]\n",
    "    coordinates = get_rcoordinates(map_name)\n",
    "    if coordinates is not None:\n",
    "        maps_coords[map_name] = coordinates\n",
    "        complete_maps.append(map_name)\n",
    "    else:\n",
    "        missing_maps.append(map_name)"
   ]
  },
  {
   "cell_type": "code",
   "execution_count": 9,
   "id": "992a4938-f2cf-4f69-9414-bdd59256858e",
   "metadata": {},
   "outputs": [
    {
     "data": {
      "text/plain": [
       "[]"
      ]
     },
     "execution_count": 9,
     "metadata": {},
     "output_type": "execute_result"
    }
   ],
   "source": [
    "missing_maps"
   ]
  },
  {
   "cell_type": "code",
   "execution_count": 10,
   "id": "3012c804-411d-4223-882b-60ef149ab571",
   "metadata": {},
   "outputs": [
    {
     "data": {
      "text/plain": [
       "['Iraq',\n",
       " 'Yemen',\n",
       " 'Afghanistan',\n",
       " 'Somalia',\n",
       " 'Algeria',\n",
       " 'Pakistan',\n",
       " 'Morocco',\n",
       " 'Philippines',\n",
       " 'Indonesia',\n",
       " 'Egypt',\n",
       " 'Syria',\n",
       " 'Nigeria',\n",
       " 'Mali',\n",
       " 'Russia',\n",
       " 'Germany',\n",
       " 'United States',\n",
       " 'Sweden',\n",
       " 'Ukraine',\n",
       " 'United Kingdom',\n",
       " 'Estonia']"
      ]
     },
     "execution_count": 10,
     "metadata": {},
     "output_type": "execute_result"
    }
   ],
   "source": [
    "complete_maps"
   ]
  },
  {
   "cell_type": "code",
   "execution_count": 11,
   "id": "f453774e-45f4-42cb-a5ce-a8c906e5e8a0",
   "metadata": {},
   "outputs": [],
   "source": [
    "# For now, fill in invalid map_name with random valid location name\n",
    "\n",
    "for imn in missing_maps:\n",
    "    maps_coords[imn] = get_rcoordinates(np.random.choice(complete_maps))\n",
    "\n",
    "# maps_coords['Global Al Qaeda'] = get_rcoordinates('Iraq')\n",
    "# maps_coords['Global Islamic State'] = get_rcoordinates('Pakistan')\n",
    "# maps_coords['Kurdistan'] = get_rcoordinates('Iraq')\n",
    "# maps_coords['North Africa'] = get_rcoordinates('Africa')\n",
    "# maps_coords['Pakistan -- All'] = get_rcoordinates('Pakistan')\n",
    "# maps_coords['Northern Ireland'] = get_rcoordinates('Ireland')\n",
    "# maps_coords['North Caucasus'] = get_rcoordinates('Iraq')\n",
    "# maps_coords['Aleppo'] = get_rcoordinates('Iraq')\n",
    "# maps_coords['Global Right-Wing Extremism'] = get_rcoordinates('Iraq')"
   ]
  },
  {
   "cell_type": "code",
   "execution_count": 16,
   "id": "c46a6e96-d06f-442b-b5cb-a910815a4725",
   "metadata": {},
   "outputs": [
    {
     "data": {
      "text/plain": [
       "{'Iraq': [39.19674301147461, 32.15494155883789],\n",
       " 'Yemen': [48.6863899230957, 14.03749942779541],\n",
       " 'Afghanistan': [61.27655792236328, 35.60724639892578],\n",
       " 'Somalia': [42.073883056640625, 4.176146507263184],\n",
       " 'Algeria': [-5.152134895324707, 30.180469512939453],\n",
       " 'Pakistan': [63.230438232421875, 29.473697662353516],\n",
       " 'Morocco': [-3.3861136436462402, 31.726106643676758],\n",
       " 'Philippines': [121.51332092285156, 19.249160766601562],\n",
       " 'Indonesia': [123.21846199035645, -10.809165954589787],\n",
       " 'Egypt': [32.649024963378906, 29.78835678100586],\n",
       " 'Syria': [35.66961669921875, 33.25171661376953],\n",
       " 'Nigeria': [11.799439430236816, 7.296663284301758],\n",
       " 'Mali': [-9.865219116210938, 12.054810523986816],\n",
       " 'Russia': [58.061378479003906, 81.68775939941406],\n",
       " 'Germany': [7.369014739990234, 49.16877746582031],\n",
       " 'United States': [-134.97500610351562, 58.64582824707031],\n",
       " 'Sweden': [11.769547462463379, 59.21753692626953],\n",
       " 'Ukraine': [31.852527618408203, 46.522674560546875],\n",
       " 'United Kingdom': [-0.8350000381469727, 60.67333221435547],\n",
       " 'Estonia': [27.372058868408203, 57.53563690185547]}"
      ]
     },
     "execution_count": 16,
     "metadata": {},
     "output_type": "execute_result"
    }
   ],
   "source": [
    "maps_coords"
   ]
  },
  {
   "cell_type": "code",
   "execution_count": 17,
   "id": "12ad3d24-463f-484d-9b44-b47145e102c3",
   "metadata": {},
   "outputs": [],
   "source": [
    "maps_coord = pd.DataFrame.from_dict(maps_coords, orient='index', columns=['lat', 'long'])"
   ]
  },
  {
   "cell_type": "code",
   "execution_count": 19,
   "id": "ac4c8d68-0d8b-4bc9-830e-1a052330d718",
   "metadata": {},
   "outputs": [],
   "source": [
    "maps_coord.to_csv('../data/maps_coord.csv')"
   ]
  },
  {
   "cell_type": "code",
   "execution_count": null,
   "id": "c5a47743-bd09-4b0a-8118-ac25ac12d082",
   "metadata": {},
   "outputs": [],
   "source": []
  }
 ],
 "metadata": {
  "kernelspec": {
   "display_name": "Python 3 (ipykernel)",
   "language": "python",
   "name": "python3"
  },
  "language_info": {
   "codemirror_mode": {
    "name": "ipython",
    "version": 3
   },
   "file_extension": ".py",
   "mimetype": "text/x-python",
   "name": "python",
   "nbconvert_exporter": "python",
   "pygments_lexer": "ipython3",
   "version": "3.8.10"
  }
 },
 "nbformat": 4,
 "nbformat_minor": 5
}
